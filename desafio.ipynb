{
 "cells": [
  {
   "cell_type": "markdown",
   "metadata": {},
   "source": [
    "1 Questão = 91"
   ]
  },
  {
   "cell_type": "code",
   "execution_count": 2,
   "metadata": {},
   "outputs": [
    {
     "name": "stdout",
     "output_type": "stream",
     "text": [
      "91\n"
     ]
    },
    {
     "data": {
      "text/plain": [
       "91"
      ]
     },
     "execution_count": 2,
     "metadata": {},
     "output_type": "execute_result"
    }
   ],
   "source": [
    "\n",
    "INDICE = 13\n",
    "SOMA = 0\n",
    "K = 0\n",
    "\n",
    "while K < INDICE:\n",
    "    K = K + 1\n",
    "    SOMA = SOMA + K\n",
    "\n",
    "print(SOMA)\n"
   ]
  },
  {
   "cell_type": "markdown",
   "metadata": {},
   "source": [
    "2 Questão \n"
   ]
  },
  {
   "cell_type": "code",
   "execution_count": 6,
   "metadata": {},
   "outputs": [
    {
     "name": "stdout",
     "output_type": "stream",
     "text": [
      "Verificar se número é Fibonacci\n",
      "5 pertence à série de Fibonacci.\n"
     ]
    }
   ],
   "source": [
    "import math\n",
    "\n",
    "# Função que verifica se n é um quadrado perfeito.\n",
    "def quadradoPerfeito(x):\n",
    "    raiz = int(math.sqrt(x))\n",
    "    return raiz*raiz == x\n",
    "  \n",
    "# Verifica se número n pertence à série de Fibonacci\n",
    "# n é Fibonacci se o resultado de 5*n*n + 4 ou 5*n*n - 4 ou ambos\n",
    "# forem quadrados perfeitos.\n",
    "def eFibonacci(n):\n",
    "    return quadradoPerfeito(5*n*n + 4) or quadradoPerfeito(5*n*n - 4)\n",
    "\n",
    "if __name__=='__main__':\n",
    "    print(\"Verificar se número é Fibonacci\")\n",
    "    n = int(input('Digite um número qualquer, positivo: '))\n",
    "\n",
    "    if(eFibonacci(n)):\n",
    "        print(f\"{n} pertence à série de Fibonacci.\")\n",
    "    else:\n",
    "        print(f\"{n} não pertence à série de Fibonacci.\")"
   ]
  },
  {
   "cell_type": "markdown",
   "metadata": {},
   "source": [
    "3) Descubra a lógica e complete o próximo elemento:\n",
    "\n",
    "\n"
   ]
  },
  {
   "cell_type": "code",
   "execution_count": null,
   "metadata": {},
   "outputs": [],
   "source": [
    "#a) 1, 3, 5, 7, 9\n",
    "\n",
    "#b) 2, 4, 8, 16, 32, 64, 128\n",
    "\n",
    "#c) 0, 1, 4, 9, 16, 25, 36, 49\n",
    "\n",
    "#d) 4, 16, 36, 64, 100\n",
    "\n",
    "#e) 1, 1, 2, 3, 5, 8, 13\n",
    "\n",
    "#f) 2, 10, 12, 16, 17, 18, 19, SEI NAO kakak"
   ]
  },
  {
   "cell_type": "markdown",
   "metadata": {},
   "source": [
    "4.Você está em uma sala com três interruptores, cada um conectado a uma lâmpada em uma sala diferente. Você não pode ver as lâmpadas da sala em que está, mas pode ligar e desligar os interruptores quantas vezes quiser. Seu objetivo é descobrir qual interruptor controla qual lâmpada.\n",
    "\n",
    "Como você faria para descobrir, usando apenas duas idas até uma das salas das lâmpadas, qual interruptor controla cada lâmpada?"
   ]
  },
  {
   "cell_type": "code",
   "execution_count": null,
   "metadata": {},
   "outputs": [],
   "source": [
    "#Eu iria acender o primeiro interruptor e olhar qual sala acendeu, depois iria apagar\n",
    "# o primeiro e acender o segundo e ver qual sala acendeu. Com isso, usei minhas duas idas \n",
    "#e o outro interruptor acenderia a sala na qual eu não fui. E  dessa forma saberia qual interruptor acende qual lâmpada"
   ]
  },
  {
   "cell_type": "markdown",
   "metadata": {},
   "source": [
    "5) Escreva um programa que inverta os caracteres de um string."
   ]
  },
  {
   "cell_type": "code",
   "execution_count": 7,
   "metadata": {},
   "outputs": [
    {
     "name": "stdout",
     "output_type": "stream",
     "text": [
      "String original: aurelio\n",
      "String invertida: oilerua\n"
     ]
    }
   ],
   "source": [
    "def inverter_string(string):\n",
    "    # Inicializa uma string vazia para armazenar o resultado da inversão\n",
    "    string_invertida = \"\"\n",
    "    \n",
    "    # Percorre a string de trás para frente\n",
    "    for i in range(len(string) - 1, -1, -1):\n",
    "        # Concatena cada caractere na posição inversa na string invertida\n",
    "        string_invertida += string[i]\n",
    "    \n",
    "    # Retorna a string invertida\n",
    "    return string_invertida\n",
    "\n",
    "# Exemplo de uso do programa\n",
    "string_original = input(\"Digite uma string: \")  # Solicita ao usuário que digite uma string\n",
    "string_invertida = inverter_string(string_original)  # Chama a função para inverter a string\n",
    "print(\"String original:\", string_original)\n",
    "print(\"String invertida:\", string_invertida)\n"
   ]
  }
 ],
 "metadata": {
  "kernelspec": {
   "display_name": "Python 3",
   "language": "python",
   "name": "python3"
  },
  "language_info": {
   "codemirror_mode": {
    "name": "ipython",
    "version": 3
   },
   "file_extension": ".py",
   "mimetype": "text/x-python",
   "name": "python",
   "nbconvert_exporter": "python",
   "pygments_lexer": "ipython3",
   "version": "3.10.9"
  }
 },
 "nbformat": 4,
 "nbformat_minor": 2
}
